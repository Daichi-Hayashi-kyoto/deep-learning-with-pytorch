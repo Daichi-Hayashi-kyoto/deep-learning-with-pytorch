{
 "cells": [
  {
   "cell_type": "markdown",
   "metadata": {},
   "source": [
    "# LeNetの実装と自前で用意した学習データでの学習\n",
    "- 動くことを目標にしているので，正答率は考慮しない"
   ]
  },
  {
   "cell_type": "code",
   "execution_count": 1,
   "metadata": {},
   "outputs": [],
   "source": [
    "import os\n",
    "import glob\n",
    "import random\n",
    "import numpy as np\n",
    "from PIL import Image\n",
    "import matplotlib.pyplot as plt\n",
    "%matplotlib inline\n",
    "import torch\n",
    "import torch.nn as nn\n",
    "import torch.optim as optim\n",
    "import torch.utils.data as data\n",
    "import torchvision\n",
    "import torch.nn.functional as F\n",
    "from torchvision import transforms\n",
    "\n",
    "from dataset import *"
   ]
  },
  {
   "cell_type": "code",
   "execution_count": 2,
   "metadata": {},
   "outputs": [],
   "source": [
    "# 乱数の固定\n",
    "torch.manual_seed(1)\n",
    "np.random.seed(1)\n",
    "random.seed(1)"
   ]
  },
  {
   "cell_type": "code",
   "execution_count": 3,
   "metadata": {},
   "outputs": [
    {
     "name": "stderr",
     "output_type": "stream",
     "text": [
      "2019-10-20 18:05:46,329 - INFO - icrawler.crawler - start crawling...\n",
      "2019-10-20 18:05:46,329 - INFO - icrawler.crawler - starting 1 feeder threads...\n",
      "2019-10-20 18:05:46,331 - INFO - feeder - thread feeder-001 exit\n",
      "2019-10-20 18:05:46,331 - INFO - icrawler.crawler - starting 1 parser threads...\n",
      "2019-10-20 18:05:46,332 - INFO - icrawler.crawler - starting 1 downloader threads...\n",
      "2019-10-20 18:05:47,191 - INFO - parser - parsing result page https://www.google.com/search?q=%E9%83%A1%E5%8F%B8%E6%81%AD%E5%AD%90&ijn=0&start=0&tbs=&tbm=isch\n",
      "2019-10-20 18:05:47,240 - INFO - downloader - skip downloading file 000001.jpg\n",
      "2019-10-20 18:05:47,386 - INFO - downloader - image #2\thttps://joseiana.com/wp-content/uploads/2017/03/2018-12-25-04-44-58-822.jpg\n",
      "2019-10-20 18:05:47,387 - INFO - downloader - skip downloading file 000003.jpg\n",
      "2019-10-20 18:05:47,388 - INFO - downloader - skip downloading file 000004.jpg\n",
      "2019-10-20 18:05:47,389 - INFO - downloader - skip downloading file 000005.png\n",
      "2019-10-20 18:05:47,390 - INFO - downloader - skip downloading file 000006.jpg\n",
      "2019-10-20 18:05:47,391 - INFO - downloader - skip downloading file 000007.jpg\n",
      "2019-10-20 18:05:47,392 - INFO - downloader - skip downloading file 000008.jpg\n",
      "2019-10-20 18:05:47,393 - INFO - downloader - skip downloading file 000009.jpg\n",
      "2019-10-20 18:05:47,607 - INFO - downloader - image #10\thttps://w-methods-for-success.com/wp-content/uploads/2019/06/60679e30214d447ece6875184b651b49-1024x566.png\n",
      "2019-10-20 18:05:47,685 - INFO - downloader - image #11\thttps://i1.wp.com/it-toranoana.com/wp/wp-content/uploads/2016/04/gunji-kyoko11-1.jpg?ssl=1\n",
      "2019-10-20 18:05:47,687 - INFO - downloader - skip downloading file 000012.jpg\n",
      "2019-10-20 18:05:47,688 - INFO - downloader - skip downloading file 000013.jpeg\n",
      "2019-10-20 18:05:47,688 - INFO - downloader - skip downloading file 000014.jpg\n",
      "2019-10-20 18:05:47,689 - INFO - downloader - skip downloading file 000015.jpg\n",
      "2019-10-20 18:05:47,690 - INFO - downloader - skip downloading file 000016.jpg\n",
      "2019-10-20 18:05:47,691 - INFO - downloader - skip downloading file 000017.jpg\n",
      "2019-10-20 18:05:47,692 - INFO - downloader - skip downloading file 000018.jpg\n",
      "2019-10-20 18:05:47,693 - INFO - downloader - skip downloading file 000019.png\n",
      "2019-10-20 18:05:47,693 - INFO - downloader - skip downloading file 000020.jpg\n",
      "2019-10-20 18:05:47,694 - INFO - downloader - skip downloading file 000021.jpg\n",
      "2019-10-20 18:05:47,737 - INFO - downloader - image #22\thttps://joseiana.com/wp-content/uploads/2015/03/2017-04-30_024914.jpg\n",
      "2019-10-20 18:05:47,739 - INFO - downloader - skip downloading file 000023.jpg\n",
      "2019-10-20 18:05:47,855 - INFO - downloader - image #24\thttps://w-methods-for-success.com/wp-content/uploads/2019/07/0bbd5fb88975ae494d2d3aabab56c96d.png\n",
      "2019-10-20 18:05:47,990 - INFO - downloader - image #25\thttps://contents.oricon.co.jp/upimg/news/20190920/2144243_201909200941170001568953007c.jpg\n",
      "2019-10-20 18:05:47,992 - INFO - downloader - skip downloading file 000026.jpg\n",
      "2019-10-20 18:05:47,993 - INFO - downloader - skip downloading file 000027.jpg\n",
      "2019-10-20 18:05:48,100 - INFO - downloader - image #28\thttps://pbs.twimg.com/media/CthqNF0UMAArW_O.jpg\n",
      "2019-10-20 18:05:48,145 - INFO - downloader - image #29\thttps://joseiana.com/wp-content/uploads/2015/03/2017-04-30_025102.jpg\n",
      "2019-10-20 18:05:48,147 - INFO - downloader - skip downloading file 000030.jpg\n",
      "2019-10-20 18:05:48,148 - INFO - downloader - skip downloading file 000031.jpg\n",
      "2019-10-20 18:05:48,149 - INFO - downloader - skip downloading file 000032.jpg\n",
      "2019-10-20 18:05:48,261 - INFO - downloader - image #33\thttp://1min-geinou.com/wp/wp-content/uploads/2014/06/gunji-kyouko-top1.jpg\n",
      "2019-10-20 18:05:48,493 - INFO - downloader - image #34\thttp://www.ntv.co.jp/announcer/images_feed/large/346qah4tD_435_240.jpg\n",
      "2019-10-20 18:05:48,549 - INFO - downloader - image #35\thttps://i0.wp.com/xn--zck3adi4kpbxc7d2131c340f.jp/wp-content/uploads/2015/05/8b98e778f20bac202c72577ad5556429.png?fit=250%2C228&ssl=1\n",
      "2019-10-20 18:05:48,550 - INFO - downloader - skip downloading file 000036.jpg\n",
      "2019-10-20 18:05:48,622 - INFO - downloader - image #37\thttps://joseiana.com/wp-content/uploads/2014/10/2014-10-05_044011-276x300.png\n",
      "2019-10-20 18:05:48,623 - INFO - downloader - skip downloading file 000038.jpg\n",
      "2019-10-20 18:05:48,653 - INFO - downloader - image #39\thttp://masato18resolution.com/wp-content/uploads/2018/06/images-566.jpeg\n",
      "2019-10-20 18:05:48,655 - INFO - downloader - skip downloading file 000040.jpg\n",
      "2019-10-20 18:05:48,655 - INFO - downloader - skip downloading file 000041.jpg\n",
      "2019-10-20 18:05:48,656 - INFO - downloader - skip downloading file 000042.jpg\n",
      "2019-10-20 18:05:48,657 - INFO - downloader - skip downloading file 000043.jpg\n",
      "2019-10-20 18:05:48,658 - INFO - downloader - skip downloading file 000044.jpg\n",
      "2019-10-20 18:05:48,659 - INFO - downloader - skip downloading file 000045.jpg\n",
      "2019-10-20 18:05:48,822 - INFO - downloader - image #46\thttps://aauk.jp/wp/wp-content/uploads/2018/05/gunji.jpg\n",
      "2019-10-20 18:05:48,824 - INFO - downloader - skip downloading file 000047.jpg\n",
      "2019-10-20 18:05:48,825 - INFO - downloader - skip downloading file 000048.jpg\n",
      "2019-10-20 18:05:48,826 - INFO - downloader - skip downloading file 000049.jpg\n",
      "2019-10-20 18:05:48,827 - INFO - downloader - skip downloading file 000050.jpg\n",
      "2019-10-20 18:05:48,829 - INFO - downloader - skip downloading file 000051.jpg\n",
      "2019-10-20 18:05:48,881 - INFO - downloader - image #52\thttps://pbs.twimg.com/media/DK4fbnrUIAA5rNF.jpg\n",
      "2019-10-20 18:05:48,883 - INFO - downloader - skip downloading file 000053.jpg\n",
      "2019-10-20 18:05:48,884 - INFO - downloader - skip downloading file 000054.jpg\n",
      "2019-10-20 18:05:48,885 - INFO - downloader - skip downloading file 000055.jpg\n",
      "2019-10-20 18:05:48,887 - INFO - downloader - skip downloading file 000056.jpg\n",
      "2019-10-20 18:05:48,888 - INFO - downloader - skip downloading file 000057.jpg\n",
      "2019-10-20 18:05:48,955 - INFO - downloader - image #58\thttps://stat.ameba.jp/user_images/20161007/09/burnedest/a3/34/j/o0480057613766691530.jpg?caw=800\n",
      "2019-10-20 18:05:48,956 - INFO - downloader - skip downloading file 000059.jpg\n",
      "2019-10-20 18:05:48,957 - INFO - downloader - skip downloading file 000060.jpg\n",
      "2019-10-20 18:05:49,190 - INFO - downloader - image #61\thttps://storage.mainichikirei.jp/images/2019/09/23/20190923dog00m100002000c/003_size6.jpg\n",
      "2019-10-20 18:05:49,336 - INFO - downloader - image #62\thttps://trendboom.monster/wp-content/uploads/2019/07/%E3%82%B9%E3%82%AF%E3%83%AA%E3%83%BC%E3%83%B3%E3%82%B7%E3%83%A7%E3%83%83%E3%83%88-2019-07-18-13.56.44.png\n",
      "2019-10-20 18:05:49,338 - INFO - downloader - skip downloading file 000063.jpg\n",
      "2019-10-20 18:05:49,339 - INFO - downloader - skip downloading file 000064.jpg\n",
      "2019-10-20 18:05:49,340 - INFO - downloader - skip downloading file 000065.jpg\n",
      "2019-10-20 18:05:49,455 - INFO - downloader - image #66\thttps://i.ytimg.com/vi/NZuF2IXJ25w/maxresdefault.jpg\n",
      "2019-10-20 18:05:49,457 - INFO - downloader - skip downloading file 000067.png\n",
      "2019-10-20 18:05:49,473 - INFO - downloader - image #68\thttps://pbs.twimg.com/media/CwiX08GUQAAwVrc.jpg\n",
      "2019-10-20 18:05:49,616 - INFO - downloader - image #69\thttps://iwiz-chie.c.yimg.jp/im_siggt9cVX8VjnUDk4XtSuZEBtA---x200-y200-exp5m-n1/d/iwiz-chie/ans-396124304\n",
      "2019-10-20 18:05:49,618 - INFO - downloader - skip downloading file 000070.png\n",
      "2019-10-20 18:05:49,620 - INFO - downloader - skip downloading file 000071.jpg\n",
      "2019-10-20 18:05:49,621 - INFO - downloader - skip downloading file 000072.jpg\n",
      "2019-10-20 18:05:49,622 - INFO - downloader - skip downloading file 000073.jpg\n",
      "2019-10-20 18:05:49,624 - INFO - downloader - skip downloading file 000074.jpg\n",
      "2019-10-20 18:05:49,625 - INFO - downloader - skip downloading file 000075.jpg\n",
      "2019-10-20 18:05:49,627 - INFO - downloader - skip downloading file 000076.JPG\n",
      "2019-10-20 18:05:49,628 - INFO - downloader - skip downloading file 000077.jpg\n",
      "2019-10-20 18:05:49,629 - INFO - downloader - skip downloading file 000078.jpg\n",
      "2019-10-20 18:05:49,630 - INFO - downloader - skip downloading file 000079.jpg\n",
      "2019-10-20 18:05:49,680 - INFO - downloader - image #80\thttps://tanaka-diary.com/wp-content/uploads/2017/09/gunji1-300x272.jpg\n",
      "2019-10-20 18:05:49,681 - INFO - downloader - skip downloading file 000081.jpg\n"
     ]
    },
    {
     "name": "stderr",
     "output_type": "stream",
     "text": [
      "2019-10-20 18:05:49,682 - INFO - downloader - skip downloading file 000082.jpg\n",
      "2019-10-20 18:05:49,683 - INFO - downloader - skip downloading file 000083.jpg\n",
      "2019-10-20 18:05:49,684 - INFO - downloader - skip downloading file 000084.jpg\n",
      "2019-10-20 18:05:49,685 - INFO - downloader - skip downloading file 000085.jpg\n",
      "2019-10-20 18:05:49,796 - INFO - downloader - image #86\thttps://todaynews01.com/wp-content/uploads/2015/01/e6c0ee06009d50634d504dfd1f2598ac.png\n",
      "2019-10-20 18:05:49,798 - INFO - downloader - skip downloading file 000087.jpg\n",
      "2019-10-20 18:05:49,799 - INFO - downloader - skip downloading file 000088.jpg\n",
      "2019-10-20 18:05:49,801 - INFO - downloader - skip downloading file 000089.jpg\n",
      "2019-10-20 18:05:49,805 - INFO - downloader - skip downloading file 000090.jpg\n",
      "2019-10-20 18:05:49,806 - INFO - downloader - skip downloading file 000091.jpg\n",
      "2019-10-20 18:05:49,807 - INFO - downloader - skip downloading file 000092.jpg\n",
      "2019-10-20 18:05:49,808 - INFO - downloader - skip downloading file 000093.jpg\n",
      "2019-10-20 18:05:49,810 - INFO - downloader - skip downloading file 000094.jpg\n",
      "2019-10-20 18:05:49,812 - INFO - downloader - skip downloading file 000095.jpg\n",
      "2019-10-20 18:05:49,813 - INFO - downloader - skip downloading file 000096.jpg\n",
      "2019-10-20 18:05:51,531 - INFO - downloader - image #97\thttps://instagram.ffra1-1.fna.fbcdn.net/v/t51.2885-15/e35/s1080x1080/67396671_2408341346044820_4385557771114034953_n.jpg?_nc_ht=instagram.ffra1-1.fna.fbcdn.net&_nc_cat=108&oh=d3a10dc2c5e399866c4fa41bab9e2c67&oe=5E3A3AE9&ig_cache_key=MjEyMTQxMjEwNzc1NzkxOTgxMQ%3D%3D.2&_nc_ig_catcb=1\n",
      "2019-10-20 18:05:51,533 - INFO - downloader - skip downloading file 000098.jpg\n",
      "2019-10-20 18:05:51,780 - INFO - downloader - image #99\thttp://www.bsfuji.tv/caster_blog20/gunji/photos/0205.jpg\n",
      "2019-10-20 18:05:51,817 - INFO - parser - no more page urls for thread parser-001 to parse\n",
      "2019-10-20 18:05:51,818 - INFO - parser - thread parser-001 exit\n",
      "2019-10-20 18:05:57,393 - INFO - downloader - no more download task for thread downloader-001\n",
      "2019-10-20 18:05:57,395 - INFO - downloader - thread downloader-001 exit\n",
      "2019-10-20 18:05:58,366 - INFO - icrawler.crawler - Crawling task done!\n",
      "2019-10-20 18:05:58,396 - INFO - icrawler.crawler - start crawling...\n",
      "2019-10-20 18:05:58,397 - INFO - icrawler.crawler - starting 1 feeder threads...\n",
      "2019-10-20 18:05:58,398 - INFO - feeder - thread feeder-001 exit\n",
      "2019-10-20 18:05:58,398 - INFO - icrawler.crawler - starting 1 parser threads...\n",
      "2019-10-20 18:05:58,400 - INFO - icrawler.crawler - starting 1 downloader threads...\n",
      "2019-10-20 18:05:58,966 - INFO - parser - parsing result page https://www.google.com/search?q=%E5%8A%A0%E8%97%A4%E5%8F%B2%E5%B8%86&ijn=0&start=0&tbs=&tbm=isch\n",
      "2019-10-20 18:05:59,013 - INFO - downloader - skip downloading file 000001.jpg\n",
      "2019-10-20 18:05:59,014 - INFO - downloader - skip downloading file 000002.jpg\n",
      "2019-10-20 18:05:59,015 - INFO - downloader - skip downloading file 000003.jpg\n",
      "2019-10-20 18:05:59,016 - INFO - downloader - skip downloading file 000004.jpg\n",
      "2019-10-20 18:05:59,017 - INFO - downloader - skip downloading file 000005.jpg\n",
      "2019-10-20 18:05:59,017 - INFO - downloader - skip downloading file 000006.jpg\n",
      "2019-10-20 18:05:59,018 - INFO - downloader - skip downloading file 000007.jpg\n",
      "2019-10-20 18:05:59,019 - INFO - downloader - skip downloading file 000008.jpg\n",
      "2019-10-20 18:05:59,019 - INFO - downloader - skip downloading file 000009.jpg\n",
      "2019-10-20 18:05:59,020 - INFO - downloader - skip downloading file 000010.jpg\n",
      "2019-10-20 18:05:59,020 - INFO - downloader - skip downloading file 000011.jpg\n",
      "2019-10-20 18:05:59,088 - INFO - downloader - image #12\thttps://www.keyakizaka46news.com/wp-content/uploads/2019/05/800px-2016%E5%B9%B4%E3%81%91%E3%82%84%E3%81%8D%E5%9D%8246%E3%83%97%E3%83%AD%E3%83%95%E3%82%A3%E3%83%BC%E3%83%AB_%E5%8A%A0%E8%97%A4%E5%8F%B2%E5%B8%86.jpg\n",
      "2019-10-20 18:05:59,345 - INFO - downloader - image #13\thttps://geinou-tomodachi.work/wp-content/uploads/2019/07/05shihokatoa-e1562947845374.jpg\n",
      "2019-10-20 18:05:59,346 - INFO - downloader - skip downloading file 000014.jpg\n",
      "2019-10-20 18:05:59,348 - INFO - downloader - skip downloading file 000015.jpg\n",
      "2019-10-20 18:05:59,349 - INFO - downloader - skip downloading file 000016.jpg\n",
      "2019-10-20 18:05:59,556 - INFO - downloader - image #17\thttps://www.nikkansports.com/entertainment/column/sakamichi/news/img/201908270000155-w500_2.jpg\n",
      "2019-10-20 18:05:59,954 - INFO - downloader - image #18\thttps://cdn.hinatazaka46.com/images/14/061/019b45a16e77697cfb8459f29dcef.jpg\n",
      "2019-10-20 18:05:59,956 - INFO - downloader - skip downloading file 000019.jpg\n",
      "2019-10-20 18:05:59,958 - INFO - downloader - skip downloading file 000020.png\n",
      "2019-10-20 18:05:59,959 - INFO - downloader - skip downloading file 000021.jpg\n",
      "2019-10-20 18:06:00,072 - INFO - downloader - image #22\thttps://i.pinimg.com/originals/52/a8/77/52a877375c8081e546548a9f3a34af71.jpg\n",
      "2019-10-20 18:06:00,276 - INFO - downloader - image #23\thttps://gaihekitosounoarekore.com/wp-content/uploads/2019/08/87717885d4675128dad958eec2aa180b.jpg\n",
      "2019-10-20 18:06:00,951 - INFO - downloader - image #24\thttps://img.bisweb.jp/wp-content/uploads/2018/07/02234344/8164-598x549.png\n",
      "2019-10-20 18:06:00,953 - INFO - downloader - skip downloading file 000025.jpg\n",
      "2019-10-20 18:06:00,954 - INFO - downloader - skip downloading file 000026.jpg\n",
      "2019-10-20 18:06:00,956 - INFO - downloader - skip downloading file 000027.jpg\n",
      "2019-10-20 18:06:00,957 - INFO - downloader - skip downloading file 000028.jpg\n",
      "2019-10-20 18:06:00,957 - INFO - downloader - skip downloading file 000029.jpg\n",
      "2019-10-20 18:06:01,095 - INFO - downloader - image #30\thttps://imgc.eximg.jp/i=https%253A%252F%252Fs.eximg.jp%252Fexnews%252Ffeed%252FOtapol%252FOtapol_201802_post_7242_1.jpg,zoom=1200,quality=70,type=jpg\n",
      "2019-10-20 18:06:01,097 - INFO - downloader - skip downloading file 000031.jpg\n",
      "2019-10-20 18:06:01,098 - INFO - downloader - skip downloading file 000032.jpg\n",
      "2019-10-20 18:06:01,099 - INFO - downloader - skip downloading file 000033.jpg\n",
      "2019-10-20 18:06:01,276 - INFO - downloader - image #34\thttp://livedoor.blogimg.jp/matomato455-keyaki46/imgs/9/6/964bbd4d-s.jpg\n",
      "2019-10-20 18:06:01,279 - INFO - downloader - skip downloading file 000035.jpg\n",
      "2019-10-20 18:06:01,280 - INFO - downloader - skip downloading file 000036.jpg\n",
      "2019-10-20 18:06:01,281 - INFO - downloader - skip downloading file 000037.jpg\n",
      "2019-10-20 18:06:01,282 - INFO - downloader - skip downloading file 000038.jpg\n",
      "2019-10-20 18:06:01,283 - INFO - downloader - skip downloading file 000039.jpg\n",
      "2019-10-20 18:06:01,284 - INFO - downloader - skip downloading file 000040.jpg\n",
      "2019-10-20 18:06:01,285 - INFO - downloader - skip downloading file 000041.jpg\n",
      "2019-10-20 18:06:01,286 - INFO - downloader - skip downloading file 000042.jpg\n",
      "2019-10-20 18:06:01,501 - INFO - downloader - image #43\thttps://hustlepress.co.jp/wp/wp-content/uploads/7db9e2e2fa400ccc33e07b877829451c/hiraganakeyaki_04_19.jpg\n",
      "2019-10-20 18:06:01,502 - INFO - downloader - skip downloading file 000044.jpg\n",
      "2019-10-20 18:06:01,503 - INFO - downloader - skip downloading file 000045.jpg\n",
      "2019-10-20 18:06:01,684 - INFO - downloader - image #46\thttp://sakamichi.matomeg-chan.com/wp-content/uploads/2019/06/20190620060751678-660x400.jpg\n",
      "2019-10-20 18:06:01,686 - INFO - downloader - skip downloading file 000047.jpg\n",
      "2019-10-20 18:06:01,686 - INFO - downloader - skip downloading file 000048.jpg\n",
      "2019-10-20 18:06:01,765 - INFO - downloader - image #49\thttps://livedoor.sp.blogimg.jp/hinatazakakoi/imgs/9/8/9826663c.jpg\n",
      "2019-10-20 18:06:01,820 - INFO - downloader - image #50\thttps://i.pinimg.com/originals/9b/5f/97/9b5f974cc603fa890b2e3e201047ab30.jpg\n",
      "2019-10-20 18:06:01,822 - INFO - downloader - skip downloading file 000051.jpg\n",
      "2019-10-20 18:06:01,823 - INFO - downloader - skip downloading file 000052.jpg\n",
      "2019-10-20 18:06:01,824 - INFO - downloader - skip downloading file 000053.jpg\n",
      "2019-10-20 18:06:01,825 - INFO - downloader - skip downloading file 000054.jpg\n",
      "2019-10-20 18:06:01,825 - INFO - downloader - skip downloading file 000055.jpg\n",
      "2019-10-20 18:06:01,946 - INFO - downloader - image #56\thttps://www.crank-in.net/img/db/1230419_650.jpg\n",
      "2019-10-20 18:06:01,948 - INFO - downloader - skip downloading file 000057.jpg\n"
     ]
    },
    {
     "name": "stderr",
     "output_type": "stream",
     "text": [
      "2019-10-20 18:06:02,005 - INFO - downloader - image #58\thttps://imgc.eximg.jp/cv/resize?i=https%3A%2F%2Fs.eximg.jp%2Fexnews%2Ffeed%2FShueishapn%2FShueishapn_20190304_108315_4c2a_2.jpg&t=jpeg&q=70\n",
      "2019-10-20 18:06:02,006 - INFO - downloader - skip downloading file 000059.jpg\n",
      "2019-10-20 18:06:02,139 - INFO - downloader - image #60\thttps://cdn.hinatazaka46.com/images/14/4b3/6df0eb773957861a4a40371372347.jpg\n",
      "2019-10-20 18:06:02,141 - INFO - downloader - skip downloading file 000061.jpg\n",
      "2019-10-20 18:06:02,142 - INFO - downloader - skip downloading file 000062.jpg\n",
      "2019-10-20 18:06:02,187 - INFO - downloader - image #63\thttp://livedoor.blogimg.jp/matomato455-keyaki46/imgs/f/c/fc4b60f6-s.jpg\n",
      "2019-10-20 18:06:02,189 - INFO - downloader - skip downloading file 000064.jpg\n",
      "2019-10-20 18:06:02,191 - INFO - downloader - skip downloading file 000065.jpg\n",
      "2019-10-20 18:06:02,193 - INFO - downloader - skip downloading file 000066.jpg\n",
      "2019-10-20 18:06:02,300 - INFO - downloader - image #67\thttps://amd.c.yimg.jp/amd/20191002-00069385-crankinn-000-10-view.jpg\n",
      "2019-10-20 18:06:02,472 - INFO - downloader - image #68\thttp://takuyasenda-digest.com/wp-content/uploads/2017/10/84d77d865e2db932772578b8db84c6b3-e1507028813287.jpg\n",
      "2019-10-20 18:06:02,474 - INFO - downloader - skip downloading file 000069.jpg\n",
      "2019-10-20 18:06:02,476 - INFO - downloader - skip downloading file 000070.jpg\n",
      "2019-10-20 18:06:02,476 - INFO - downloader - skip downloading file 000071.jpg\n",
      "2019-10-20 18:06:02,478 - INFO - downloader - skip downloading file 000072.jpg\n",
      "2019-10-20 18:06:02,577 - INFO - downloader - image #73\thttp://livedoor.blogimg.jp/matomato455-keyaki46/imgs/7/5/754ef005.jpg\n",
      "2019-10-20 18:06:02,579 - INFO - downloader - skip downloading file 000074.jpg\n",
      "2019-10-20 18:06:02,769 - INFO - downloader - image #75\thttps://image.space.rakuten.co.jp/d/strg/ctrl/9/9df7a890a786f798ddc0b1efa66cdb437e31a42e.10.2.9.2.jpeg\n",
      "2019-10-20 18:06:02,771 - INFO - downloader - skip downloading file 000076.jpg\n",
      "2019-10-20 18:06:02,772 - INFO - downloader - skip downloading file 000077.jpg\n",
      "2019-10-20 18:06:02,774 - INFO - downloader - skip downloading file 000078.jpg\n",
      "2019-10-20 18:06:02,774 - INFO - downloader - skip downloading file 000079.jpg\n",
      "2019-10-20 18:06:02,775 - INFO - downloader - skip downloading file 000080.jpg\n",
      "2019-10-20 18:06:02,776 - INFO - downloader - skip downloading file 000081.jpg\n",
      "2019-10-20 18:06:02,777 - INFO - downloader - skip downloading file 000082.jpg\n",
      "2019-10-20 18:06:02,777 - INFO - downloader - skip downloading file 000083.jpg\n",
      "2019-10-20 18:06:02,778 - INFO - downloader - skip downloading file 000084.jpg\n",
      "2019-10-20 18:06:02,779 - INFO - downloader - skip downloading file 000085.jpg\n",
      "2019-10-20 18:06:03,042 - INFO - downloader - image #86\thttps://www.sponichi.co.jp/entertainment/news/2019/08/27/jpeg/20190826s00041000394000p_view.jpg\n",
      "2019-10-20 18:06:03,044 - INFO - downloader - skip downloading file 000087.jpg\n",
      "2019-10-20 18:06:03,044 - INFO - downloader - skip downloading file 000088.jpg\n",
      "2019-10-20 18:06:03,103 - INFO - downloader - image #89\thttps://img-mdpr.freetls.fastly.net/article/uFSn/wm/uFSniV82x4iqk4AsLCunj3zBqhkpTUAxqGgEp9psGhQ.jpg?width=250&enable=upscale&crop=250:250,offset-y0&auto=webp\n",
      "2019-10-20 18:06:03,131 - INFO - downloader - image #90\thttps://i.pinimg.com/564x/3c/0f/86/3c0f86428aacde1634fb9edbb0cd57ef.jpg\n",
      "2019-10-20 18:06:03,296 - INFO - downloader - image #91\thttps://keyakizaka-46.org/wp-content/uploads/2018/01/SB84XhK.jpg\n",
      "2019-10-20 18:06:03,298 - INFO - downloader - skip downloading file 000092.png\n",
      "2019-10-20 18:06:03,299 - INFO - downloader - skip downloading file 000093.jpg\n",
      "2019-10-20 18:06:03,694 - INFO - downloader - image #94\thttps://news.mynavi.jp/article/20190412-807032/images/005.jpg\n",
      "2019-10-20 18:06:04,557 - INFO - downloader - image #95\thttps://media1.tenor.com/images/e70623e4ef82116600bf51fa4ac2f185/tenor.gif?itemid=12529732\n",
      "2019-10-20 18:06:04,560 - INFO - downloader - skip downloading file 000096.jpg\n",
      "2019-10-20 18:06:04,561 - INFO - downloader - skip downloading file 000097.jpg\n",
      "2019-10-20 18:06:04,561 - INFO - downloader - skip downloading file 000098.jpg\n",
      "2019-10-20 18:06:04,563 - INFO - downloader - skip downloading file 000099.jpg\n",
      "2019-10-20 18:06:04,740 - INFO - downloader - image #100\thttps://www.keyakizaka46news.com/wp-content/uploads/2019/05/670ab3a8-f73a-4307-a721-f7212643f1c9.png\n",
      "2019-10-20 18:06:05,701 - INFO - parser - no more page urls for thread parser-001 to parse\n",
      "2019-10-20 18:06:05,703 - INFO - parser - thread parser-001 exit\n",
      "2019-10-20 18:06:09,746 - INFO - downloader - no more download task for thread downloader-001\n",
      "2019-10-20 18:06:09,748 - INFO - downloader - thread downloader-001 exit\n",
      "2019-10-20 18:06:10,429 - INFO - icrawler.crawler - Crawling task done!\n",
      "2019-10-20 18:06:10,456 - INFO - icrawler.crawler - start crawling...\n",
      "2019-10-20 18:06:10,457 - INFO - icrawler.crawler - starting 1 feeder threads...\n",
      "2019-10-20 18:06:10,458 - INFO - feeder - thread feeder-001 exit\n",
      "2019-10-20 18:06:10,459 - INFO - icrawler.crawler - starting 1 parser threads...\n",
      "2019-10-20 18:06:10,461 - INFO - icrawler.crawler - starting 1 downloader threads...\n",
      "2019-10-20 18:06:11,048 - INFO - parser - parsing result page https://www.google.com/search?q=%E5%B0%8F%E5%9D%82%E8%8F%9C%E7%B7%92&ijn=0&start=0&tbs=&tbm=isch\n",
      "2019-10-20 18:06:11,094 - INFO - downloader - skip downloading file 000001.jpg\n",
      "2019-10-20 18:06:11,095 - INFO - downloader - skip downloading file 000002.jpg\n",
      "2019-10-20 18:06:11,096 - INFO - downloader - skip downloading file 000003.jpg\n",
      "2019-10-20 18:06:11,097 - INFO - downloader - skip downloading file 000004.jpg\n",
      "2019-10-20 18:06:11,157 - INFO - downloader - image #5\thttps://images-na.ssl-images-amazon.com/images/I/413q7tqK1tL._SY445_.jpg\n",
      "2019-10-20 18:06:11,159 - INFO - downloader - skip downloading file 000006.jpg\n",
      "2019-10-20 18:06:11,159 - INFO - downloader - skip downloading file 000007.jpg\n",
      "2019-10-20 18:06:11,160 - INFO - downloader - skip downloading file 000008.jpg\n",
      "2019-10-20 18:06:11,161 - INFO - downloader - skip downloading file 000009.jpg\n",
      "2019-10-20 18:06:11,162 - INFO - downloader - skip downloading file 000010.jpg\n",
      "2019-10-20 18:06:11,163 - INFO - downloader - skip downloading file 000011.jpg\n",
      "2019-10-20 18:06:11,165 - INFO - downloader - skip downloading file 000012.jpg\n",
      "2019-10-20 18:06:11,379 - INFO - downloader - image #13\thttp://www.billboard-japan.com/scale/news/00000067/67647/800x_image.jpg\n",
      "2019-10-20 18:06:11,382 - INFO - downloader - skip downloading file 000014.jpg\n",
      "2019-10-20 18:06:11,499 - INFO - downloader - image #15\thttps://i.ytimg.com/vi/VfDXQbb-1tc/maxresdefault.jpg\n",
      "2019-10-20 18:06:11,730 - INFO - downloader - image #16\thttps://obs.line-scdn.net/0he48DwBhROhsFPRDrvv9FTEZgPHR8XiATb0UtIXBrMDVwUS0bbUcgKWJ_NGhtEXVJPQcjD344MipSDgUpcTAnBnQ7FnIsezs2cT98H3t0eCssCX9IPFxxeCg9bH4pDnUIOFMgf3VobS8\n",
      "2019-10-20 18:06:11,810 - INFO - downloader - image #17\thttps://cdn-ak.f.st-hatena.com/images/fotolife/h/hemhem190/20190325/20190325041542.jpg\n",
      "2019-10-20 18:06:11,812 - INFO - downloader - skip downloading file 000018.jpg\n",
      "2019-10-20 18:06:11,813 - INFO - downloader - skip downloading file 000019.jpg\n",
      "2019-10-20 18:06:11,814 - INFO - downloader - skip downloading file 000020.jpg\n",
      "2019-10-20 18:06:11,815 - INFO - downloader - skip downloading file 000021.jpg\n",
      "2019-10-20 18:06:12,172 - INFO - downloader - image #22\thttps://image.showroom-live.com/showroom-prod/image/room/cover/4c7d3a67a46a7e508a6fa221c73e167028a2418a6657ad1c7a350b0ba0553867_l.png?v=1567584791\n",
      "2019-10-20 18:06:12,174 - INFO - downloader - skip downloading file 000023.jpg\n",
      "2019-10-20 18:06:12,175 - INFO - downloader - skip downloading file 000024.jpg\n",
      "2019-10-20 18:06:12,248 - INFO - downloader - image #25\thttp://48ers.info/file/parts/I0000710/1fa14857ada186365505ba8622af909f.jpg\n",
      "2019-10-20 18:06:12,250 - INFO - downloader - skip downloading file 000026.jpg\n",
      "2019-10-20 18:06:12,251 - INFO - downloader - skip downloading file 000027.jpg\n",
      "2019-10-20 18:06:12,253 - INFO - downloader - skip downloading file 000028.jpg\n",
      "2019-10-20 18:06:12,370 - INFO - downloader - image #29\thttps://contents.oricon.co.jp/upimg/news/20190729/2141195_201907290369265001564394373c.jpg\n",
      "2019-10-20 18:06:12,371 - INFO - downloader - skip downloading file 000030.jpg\n"
     ]
    },
    {
     "name": "stderr",
     "output_type": "stream",
     "text": [
      "2019-10-20 18:06:12,372 - INFO - downloader - skip downloading file 000031.jpg\n",
      "2019-10-20 18:06:12,373 - INFO - downloader - skip downloading file 000032.jpg\n",
      "2019-10-20 18:06:12,374 - INFO - downloader - skip downloading file 000033.jpg\n",
      "2019-10-20 18:06:12,375 - INFO - downloader - skip downloading file 000034.jpg\n",
      "2019-10-20 18:06:12,376 - INFO - downloader - skip downloading file 000035.jpg\n",
      "2019-10-20 18:06:12,377 - INFO - downloader - skip downloading file 000036.jpg\n",
      "2019-10-20 18:06:12,378 - INFO - downloader - skip downloading file 000037.jpg\n",
      "2019-10-20 18:06:12,419 - INFO - downloader - image #38\thttps://i1.wp.com/e-entre.info/wp-content/uploads/2018/11/hirate.jpg?resize=570%2C485\n",
      "2019-10-20 18:06:12,534 - INFO - downloader - image #39\thttps://paragon-style.com/wp-content/uploads/2018/04/%E3%82%AD%E3%83%A3%E3%83%97%E3%83%81%E3%83%A321.png\n",
      "2019-10-20 18:06:12,659 - INFO - downloader - image #40\thttps://cdn.amebaowndme.com/madrid-prd/madrid-web/images/sites/370789/4bf32d0c002a31a0ab6a67376677a0fa_8c1418f0a8d77daceb175d725093960a.jpg?width=604\n",
      "2019-10-20 18:06:12,782 - INFO - downloader - image #41\thttps://cdn.mainichi.jp/vol1/2019/07/09/20190709dyo00m200039000p/7.jpg?1\n",
      "2019-10-20 18:06:12,784 - INFO - downloader - skip downloading file 000042.jpg\n",
      "2019-10-20 18:06:12,785 - INFO - downloader - skip downloading file 000043.jpg\n",
      "2019-10-20 18:06:13,382 - INFO - downloader - image #44\thttps://atman-media.com/wp-content/uploads/2019/04/fb8957eb3e6a4e0071bdcb17cacdf7fd.png\n",
      "2019-10-20 18:06:13,384 - INFO - downloader - skip downloading file 000045.jpg\n",
      "2019-10-20 18:06:13,385 - INFO - downloader - skip downloading file 000046.jpg\n",
      "2019-10-20 18:06:13,541 - INFO - downloader - image #47\thttps://taa-channel.com/wp-content/uploads/2018/09/kosaka11.png\n",
      "2019-10-20 18:06:13,775 - INFO - downloader - image #48\thttps://storage.mantan-web.jp/images/2019/09/23/20190923dog00m200000000c/001_size6.jpg\n",
      "2019-10-20 18:06:13,777 - INFO - downloader - skip downloading file 000049.jpg\n",
      "2019-10-20 18:06:13,778 - INFO - downloader - skip downloading file 000050.jpg\n",
      "2019-10-20 18:06:13,779 - INFO - downloader - skip downloading file 000051.jpg\n",
      "2019-10-20 18:06:13,780 - INFO - downloader - skip downloading file 000052.jpg\n",
      "2019-10-20 18:06:13,780 - INFO - downloader - skip downloading file 000053.jpg\n",
      "2019-10-20 18:06:13,781 - INFO - downloader - skip downloading file 000054.jpg\n",
      "2019-10-20 18:06:13,782 - INFO - downloader - skip downloading file 000055.jpg\n",
      "2019-10-20 18:06:13,921 - INFO - downloader - image #56\thttps://purulife.site/wp-content/uploads/2018/11/mobzssjYM-e1542026415442.jpg\n",
      "2019-10-20 18:06:13,923 - INFO - downloader - skip downloading file 000057.jpg\n",
      "2019-10-20 18:06:13,924 - INFO - downloader - skip downloading file 000058.jpg\n",
      "2019-10-20 18:06:13,925 - INFO - downloader - skip downloading file 000059.jpg\n",
      "2019-10-20 18:06:14,200 - INFO - downloader - image #60\thttps://miozukushi.com/wp-content/uploads/2018/09/f3047bc0059e4dd329316ea20ecbd2ae-1.png\n",
      "2019-10-20 18:06:14,297 - INFO - downloader - image #61\thttp://nogi-dori.net/wp-content/uploads/2019/02/2019%E3%80%80%E5%9D%82%E9%81%93AKB-%E3%82%BB%E3%83%B3%E3%82%BF%E3%83%BC.jpg\n",
      "2019-10-20 18:06:14,490 - INFO - downloader - image #62\thttps://cdn.hinatazaka46.com/files/14/diary/official/member/moblog/201905/mobipSoZg.jpg\n",
      "2019-10-20 18:06:14,491 - INFO - downloader - skip downloading file 000063.jpg\n",
      "2019-10-20 18:06:14,554 - INFO - downloader - image #64\thttps://annneme.net/wp-content/uploads/2019/04/mobATWkXB.jpg\n",
      "2019-10-20 18:06:14,556 - INFO - downloader - skip downloading file 000065.jpg\n",
      "2019-10-20 18:06:14,612 - INFO - downloader - image #66\thttps://i0.wp.com/zaka46ota.com/wp-content/uploads/2017/10/mniihujk.png?w=1238&ssl=1\n",
      "2019-10-20 18:06:14,614 - INFO - downloader - skip downloading file 000067.jpg\n",
      "2019-10-20 18:06:14,615 - INFO - downloader - skip downloading file 000068.jpg\n",
      "2019-10-20 18:06:14,616 - INFO - downloader - skip downloading file 000069.jpg\n",
      "2019-10-20 18:06:14,617 - INFO - downloader - skip downloading file 000070.jpg\n",
      "2019-10-20 18:06:14,618 - INFO - downloader - skip downloading file 000071.jpg\n",
      "2019-10-20 18:06:14,619 - INFO - downloader - skip downloading file 000072.jpg\n",
      "2019-10-20 18:06:14,693 - INFO - downloader - image #73\thttps://i.pinimg.com/736x/46/7a/8e/467a8e92bbdbd66d8669224c7ee0b984.jpg\n",
      "2019-10-20 18:06:14,694 - INFO - downloader - skip downloading file 000074.jpg\n",
      "2019-10-20 18:06:14,695 - INFO - downloader - skip downloading file 000075.jpg\n",
      "2019-10-20 18:06:14,696 - INFO - downloader - skip downloading file 000076.jpg\n",
      "2019-10-20 18:06:14,697 - INFO - downloader - skip downloading file 000077.jpg\n",
      "2019-10-20 18:06:14,698 - INFO - downloader - skip downloading file 000078.jpg\n",
      "2019-10-20 18:06:14,842 - INFO - downloader - image #79\thttps://galaxydesign.site/wp-content/uploads/2018/12/seki-yumiko-e1544620434466.png\n",
      "2019-10-20 18:06:14,843 - INFO - downloader - skip downloading file 000080.jpg\n",
      "2019-10-20 18:06:14,844 - INFO - downloader - skip downloading file 000081.jpg\n",
      "2019-10-20 18:06:14,845 - INFO - downloader - skip downloading file 000082.jpg\n",
      "2019-10-20 18:06:14,846 - INFO - downloader - skip downloading file 000083.jpg\n",
      "2019-10-20 18:06:14,847 - INFO - downloader - skip downloading file 000084.jpg\n",
      "2019-10-20 18:06:15,210 - INFO - downloader - image #85\thttps://d13krdvwknzmgv.cloudfront.net/files/topics/4778337_ext_col_03_3.jpg?v=1552636538\n",
      "2019-10-20 18:06:15,212 - INFO - downloader - skip downloading file 000086.jpg\n",
      "2019-10-20 18:06:15,382 - INFO - downloader - image #87\thttps://cdn.hinatazaka46.com/files/14/diary/official/member/moblog/201905/mobxq0Cd2.jpg\n",
      "2019-10-20 18:06:15,383 - INFO - downloader - skip downloading file 000088.jpg\n",
      "2019-10-20 18:06:15,384 - INFO - downloader - skip downloading file 000089.jpg\n",
      "2019-10-20 18:06:15,384 - INFO - downloader - skip downloading file 000090.jpg\n",
      "2019-10-20 18:06:15,385 - INFO - downloader - skip downloading file 000091.jpg\n",
      "2019-10-20 18:06:15,385 - INFO - downloader - skip downloading file 000092.jpg\n",
      "2019-10-20 18:06:15,386 - INFO - downloader - skip downloading file 000093.jpg\n",
      "2019-10-20 18:06:15,517 - INFO - downloader - image #94\thttps://img.news.goo.ne.jp/picture/dwango/m_dwango-174046.jpg\n",
      "2019-10-20 18:06:15,519 - INFO - downloader - skip downloading file 000095.jpg\n",
      "2019-10-20 18:06:15,520 - INFO - downloader - skip downloading file 000096.jpg\n",
      "2019-10-20 18:06:15,520 - INFO - downloader - skip downloading file 000097.jpg\n",
      "2019-10-20 18:06:15,521 - INFO - downloader - skip downloading file 000098.jpg\n",
      "2019-10-20 18:06:15,522 - INFO - downloader - skip downloading file 000099.jpg\n",
      "2019-10-20 18:06:15,523 - INFO - downloader - skip downloading file 000100.jpg\n",
      "2019-10-20 18:06:17,522 - INFO - parser - no more page urls for thread parser-001 to parse\n",
      "2019-10-20 18:06:17,523 - INFO - parser - thread parser-001 exit\n",
      "2019-10-20 18:06:20,528 - INFO - downloader - no more download task for thread downloader-001\n",
      "2019-10-20 18:06:20,530 - INFO - downloader - thread downloader-001 exit\n",
      "2019-10-20 18:06:21,501 - INFO - icrawler.crawler - Crawling task done!\n"
     ]
    }
   ],
   "source": [
    "# データをgoogle画像検索から取得する\n",
    "from dataget import get_image\n",
    "\n",
    "save_path = \"./image\"\n",
    "name_list = [\"郡司恭子\", \"加藤史帆\", \"小坂菜緒\"]\n",
    "for name in name_list:\n",
    "    get_image(name = name, file_path = save_path, data_count = 100)"
   ]
  },
  {
   "cell_type": "code",
   "execution_count": 4,
   "metadata": {},
   "outputs": [
    {
     "data": {
      "text/plain": [
       "'\\ntransform = Imagetransform(size, mean, std)\\ntransformed_img = transform(img, phase = \"train\")\\n\\n# change (color, h, w) to (h, w, color) and 0-1に制限\\ntransformed_img = transformed_img.numpy().transpose((1, 2, 0))\\ntransformed_img = np.clip(transformed_img, 0, 1)   # 0-1に制限\\nplt.imshow(transformed_img)\\nplt.show()\\n'"
      ]
     },
     "execution_count": 4,
     "metadata": {},
     "output_type": "execute_result"
    }
   ],
   "source": [
    "# 訓練時の画像の前処理の確認\n",
    "\n",
    "# 3 画像の前処理と処理済み画像の表示\n",
    "size = 32\n",
    "mean = (0.485, 0.456, 0.406)\n",
    "std = (0.229, 0.224, 0.225)\n",
    "\n",
    "\n",
    "# 以下，画像の前処理を可視化させたいときに実行\n",
    "# file_pathはランダムに変わるので、自分のtrain以下のデータナンバーに合わせる\n",
    "\"\"\"\n",
    "# read image\n",
    "image_file_path = \"./image/train/加藤史帆/000002.jpg\"\n",
    "img = Image.open(image_file_path)   # [h][w][RGB]\n",
    "\n",
    "# plot original image\n",
    "plt.imshow(img)\n",
    "plt.show()\n",
    "\n",
    "transform = Imagetransform(size, mean, std)\n",
    "transformed_img = transform(img, phase = \"train\")\n",
    "\n",
    "# change (color, h, w) to (h, w, color) and 0-1に制限\n",
    "transformed_img = transformed_img.numpy().transpose((1, 2, 0))\n",
    "transformed_img = np.clip(transformed_img, 0, 1)   # 0-1に制限\n",
    "plt.imshow(transformed_img)\n",
    "plt.show()\n",
    "\"\"\""
   ]
  },
  {
   "cell_type": "code",
   "execution_count": 5,
   "metadata": {},
   "outputs": [
    {
     "name": "stdout",
     "output_type": "stream",
     "text": [
      "./image/train/**/*.jpg\n",
      "./image/val/**/*.jpg\n"
     ]
    }
   ],
   "source": [
    "'''\n",
    "Dataloaderの作成\n",
    "'''\n",
    "\n",
    "# ミニバッチサイズの指定\n",
    "batch_size = 40\n",
    "\n",
    "train_list = make_filepath_list()\n",
    "val_list = make_filepath_list(phase = 'val')\n",
    "\n",
    "train_dataset = beautifulDataset(file_list = train_list, transform = Imagetransform(size, mean, std), phase = 'train')\n",
    "val_dataset = beautifulDataset(file_list = val_list, transform=Imagetransform(size, mean, std), phase = 'val')\n",
    "\n",
    "train_dataloader = data.DataLoader(train_dataset, batch_size = batch_size, shuffle=True)\n",
    "val_dataloader = data.DataLoader(val_dataset, batch_size=batch_size, shuffle=False)\n",
    "\n",
    "# 辞書型変数にまとめる\n",
    "dataloaders_dict = {\"train\" : train_dataloader, \"val\" : val_dataloader}"
   ]
  },
  {
   "cell_type": "code",
   "execution_count": 6,
   "metadata": {},
   "outputs": [
    {
     "name": "stdout",
     "output_type": "stream",
     "text": [
      "LeNet(\n",
      "  (conv1): Conv2d(3, 6, kernel_size=(5, 5), stride=(1, 1))\n",
      "  (maxpool1): MaxPool2d(kernel_size=2, stride=2, padding=0, dilation=1, ceil_mode=False)\n",
      "  (conv2): Conv2d(6, 16, kernel_size=(5, 5), stride=(1, 1))\n",
      "  (maxpool2): MaxPool2d(kernel_size=2, stride=2, padding=0, dilation=1, ceil_mode=False)\n",
      "  (fc1): Linear(in_features=400, out_features=120, bias=True)\n",
      "  (fc2): Linear(in_features=120, out_features=64, bias=True)\n",
      "  (fc3): Linear(in_features=64, out_features=3, bias=True)\n",
      ")\n"
     ]
    }
   ],
   "source": [
    "from lenet import LeNet, trainer\n",
    "\n",
    "model = LeNet(num_class = 3)\n",
    "print(model)"
   ]
  },
  {
   "cell_type": "code",
   "execution_count": 7,
   "metadata": {},
   "outputs": [
    {
     "name": "stderr",
     "output_type": "stream",
     "text": [
      "\r",
      "  0%|          | 0/6 [00:00<?, ?it/s]"
     ]
    },
    {
     "name": "stdout",
     "output_type": "stream",
     "text": [
      "使うのは: cpu\n",
      "epoch 1/5\n",
      "====================\n"
     ]
    },
    {
     "name": "stderr",
     "output_type": "stream",
     "text": [
      "/Users/hayashidaichi/anaconda3/lib/python3.6/site-packages/torch/nn/functional.py:1332: UserWarning: nn.functional.sigmoid is deprecated. Use torch.sigmoid instead.\n",
      "  warnings.warn(\"nn.functional.sigmoid is deprecated. Use torch.sigmoid instead.\")\n",
      "\r",
      " 17%|█▋        | 1/6 [00:00<00:02,  1.67it/s]"
     ]
    },
    {
     "name": "stdout",
     "output_type": "stream",
     "text": [
      "train loss : 0.1908 Acc : 0.0515\n"
     ]
    },
    {
     "name": "stderr",
     "output_type": "stream",
     "text": [
      "\r",
      " 33%|███▎      | 2/6 [00:01<00:02,  1.84it/s]"
     ]
    },
    {
     "name": "stdout",
     "output_type": "stream",
     "text": [
      "train loss : 0.1904 Acc : 0.1073\n"
     ]
    },
    {
     "name": "stderr",
     "output_type": "stream",
     "text": [
      "\r",
      " 50%|█████     | 3/6 [00:01<00:01,  1.85it/s]"
     ]
    },
    {
     "name": "stdout",
     "output_type": "stream",
     "text": [
      "train loss : 0.1942 Acc : 0.1545\n"
     ]
    },
    {
     "name": "stderr",
     "output_type": "stream",
     "text": [
      "\r",
      " 67%|██████▋   | 4/6 [00:01<00:01,  1.99it/s]"
     ]
    },
    {
     "name": "stdout",
     "output_type": "stream",
     "text": [
      "train loss : 0.1897 Acc : 0.2146\n"
     ]
    },
    {
     "name": "stderr",
     "output_type": "stream",
     "text": [
      "\r",
      " 83%|████████▎ | 5/6 [00:02<00:00,  2.17it/s]"
     ]
    },
    {
     "name": "stdout",
     "output_type": "stream",
     "text": [
      "train loss : 0.1903 Acc : 0.2747\n"
     ]
    },
    {
     "name": "stderr",
     "output_type": "stream",
     "text": [
      "100%|██████████| 6/6 [00:02<00:00,  2.25it/s]\n",
      "  0%|          | 0/2 [00:00<?, ?it/s]"
     ]
    },
    {
     "name": "stdout",
     "output_type": "stream",
     "text": [
      "train loss : 0.1540 Acc : 0.3219\n"
     ]
    },
    {
     "name": "stderr",
     "output_type": "stream",
     "text": [
      "100%|██████████| 2/2 [00:00<00:00,  2.96it/s]\n",
      "  0%|          | 0/6 [00:00<?, ?it/s]"
     ]
    },
    {
     "name": "stdout",
     "output_type": "stream",
     "text": [
      "val loss : 0.6198 Acc : 0.3065\n",
      "val loss : 0.5310 Acc : 0.3065\n",
      "epoch 2/5\n",
      "====================\n"
     ]
    },
    {
     "name": "stderr",
     "output_type": "stream",
     "text": [
      "\r",
      " 17%|█▋        | 1/6 [00:00<00:02,  2.45it/s]"
     ]
    },
    {
     "name": "stdout",
     "output_type": "stream",
     "text": [
      "train loss : 0.1970 Acc : 0.0558\n"
     ]
    },
    {
     "name": "stderr",
     "output_type": "stream",
     "text": [
      "\r",
      " 33%|███▎      | 2/6 [00:00<00:01,  2.59it/s]"
     ]
    },
    {
     "name": "stdout",
     "output_type": "stream",
     "text": [
      "train loss : 0.1978 Acc : 0.0944\n"
     ]
    },
    {
     "name": "stderr",
     "output_type": "stream",
     "text": [
      "\r",
      " 50%|█████     | 3/6 [00:01<00:01,  2.32it/s]"
     ]
    },
    {
     "name": "stdout",
     "output_type": "stream",
     "text": [
      "train loss : 0.1886 Acc : 0.1502\n"
     ]
    },
    {
     "name": "stderr",
     "output_type": "stream",
     "text": [
      "\r",
      " 67%|██████▋   | 4/6 [00:01<00:00,  2.46it/s]"
     ]
    },
    {
     "name": "stdout",
     "output_type": "stream",
     "text": [
      "train loss : 0.1898 Acc : 0.2103\n"
     ]
    },
    {
     "name": "stderr",
     "output_type": "stream",
     "text": [
      "\r",
      " 83%|████████▎ | 5/6 [00:02<00:00,  2.50it/s]"
     ]
    },
    {
     "name": "stdout",
     "output_type": "stream",
     "text": [
      "train loss : 0.1957 Acc : 0.2489\n"
     ]
    },
    {
     "name": "stderr",
     "output_type": "stream",
     "text": [
      "100%|██████████| 6/6 [00:02<00:00,  2.43it/s]\n",
      "  0%|          | 0/2 [00:00<?, ?it/s]"
     ]
    },
    {
     "name": "stdout",
     "output_type": "stream",
     "text": [
      "train loss : 0.1569 Acc : 0.2918\n"
     ]
    },
    {
     "name": "stderr",
     "output_type": "stream",
     "text": [
      "100%|██████████| 2/2 [00:00<00:00,  3.07it/s]\n",
      "  0%|          | 0/6 [00:00<?, ?it/s]"
     ]
    },
    {
     "name": "stdout",
     "output_type": "stream",
     "text": [
      "val loss : 0.7429 Acc : 0.0000\n",
      "val loss : 0.3714 Acc : 0.3548\n",
      "epoch 3/5\n",
      "====================\n"
     ]
    },
    {
     "name": "stderr",
     "output_type": "stream",
     "text": [
      "\r",
      " 17%|█▋        | 1/6 [00:00<00:01,  2.67it/s]"
     ]
    },
    {
     "name": "stdout",
     "output_type": "stream",
     "text": [
      "train loss : 0.1905 Acc : 0.0386\n"
     ]
    },
    {
     "name": "stderr",
     "output_type": "stream",
     "text": [
      "\r",
      " 33%|███▎      | 2/6 [00:00<00:01,  2.70it/s]"
     ]
    },
    {
     "name": "stdout",
     "output_type": "stream",
     "text": [
      "train loss : 0.1871 Acc : 0.1030\n"
     ]
    },
    {
     "name": "stderr",
     "output_type": "stream",
     "text": [
      "\r",
      " 50%|█████     | 3/6 [00:01<00:01,  2.46it/s]"
     ]
    },
    {
     "name": "stdout",
     "output_type": "stream",
     "text": [
      "train loss : 0.1973 Acc : 0.1459\n"
     ]
    },
    {
     "name": "stderr",
     "output_type": "stream",
     "text": [
      "\r",
      " 67%|██████▋   | 4/6 [00:01<00:00,  2.18it/s]"
     ]
    },
    {
     "name": "stdout",
     "output_type": "stream",
     "text": [
      "train loss : 0.1862 Acc : 0.2232\n"
     ]
    },
    {
     "name": "stderr",
     "output_type": "stream",
     "text": [
      "\r",
      " 83%|████████▎ | 5/6 [00:02<00:00,  2.33it/s]"
     ]
    },
    {
     "name": "stdout",
     "output_type": "stream",
     "text": [
      "train loss : 0.1910 Acc : 0.2876\n"
     ]
    },
    {
     "name": "stderr",
     "output_type": "stream",
     "text": [
      "100%|██████████| 6/6 [00:02<00:00,  2.26it/s]\n",
      "  0%|          | 0/2 [00:00<?, ?it/s]"
     ]
    },
    {
     "name": "stdout",
     "output_type": "stream",
     "text": [
      "train loss : 0.1615 Acc : 0.3133\n"
     ]
    },
    {
     "name": "stderr",
     "output_type": "stream",
     "text": [
      "100%|██████████| 2/2 [00:00<00:00,  2.97it/s]\n",
      "  0%|          | 0/6 [00:00<?, ?it/s]"
     ]
    },
    {
     "name": "stdout",
     "output_type": "stream",
     "text": [
      "val loss : 0.6535 Acc : 0.3387\n",
      "val loss : 0.4679 Acc : 0.3387\n",
      "epoch 4/5\n",
      "====================\n"
     ]
    },
    {
     "name": "stderr",
     "output_type": "stream",
     "text": [
      "\r",
      " 17%|█▋        | 1/6 [00:00<00:02,  2.30it/s]"
     ]
    },
    {
     "name": "stdout",
     "output_type": "stream",
     "text": [
      "train loss : 0.1914 Acc : 0.0601\n"
     ]
    },
    {
     "name": "stderr",
     "output_type": "stream",
     "text": [
      "\r",
      " 33%|███▎      | 2/6 [00:00<00:01,  2.34it/s]"
     ]
    },
    {
     "name": "stdout",
     "output_type": "stream",
     "text": [
      "train loss : 0.1815 Acc : 0.1459\n"
     ]
    },
    {
     "name": "stderr",
     "output_type": "stream",
     "text": [
      "\r",
      " 50%|█████     | 3/6 [00:01<00:01,  2.33it/s]"
     ]
    },
    {
     "name": "stdout",
     "output_type": "stream",
     "text": [
      "train loss : 0.1958 Acc : 0.1931\n"
     ]
    },
    {
     "name": "stderr",
     "output_type": "stream",
     "text": [
      "\r",
      " 67%|██████▋   | 4/6 [00:01<00:00,  2.07it/s]"
     ]
    },
    {
     "name": "stdout",
     "output_type": "stream",
     "text": [
      "train loss : 0.1925 Acc : 0.2489\n"
     ]
    },
    {
     "name": "stderr",
     "output_type": "stream",
     "text": [
      "\r",
      " 83%|████████▎ | 5/6 [00:02<00:00,  2.10it/s]"
     ]
    },
    {
     "name": "stdout",
     "output_type": "stream",
     "text": [
      "train loss : 0.1942 Acc : 0.2961\n"
     ]
    },
    {
     "name": "stderr",
     "output_type": "stream",
     "text": [
      "100%|██████████| 6/6 [00:02<00:00,  2.19it/s]\n",
      "  0%|          | 0/2 [00:00<?, ?it/s]"
     ]
    },
    {
     "name": "stdout",
     "output_type": "stream",
     "text": [
      "train loss : 0.1588 Acc : 0.3391\n"
     ]
    },
    {
     "name": "stderr",
     "output_type": "stream",
     "text": [
      "100%|██████████| 2/2 [00:00<00:00,  2.99it/s]\n",
      "  0%|          | 0/6 [00:00<?, ?it/s]"
     ]
    },
    {
     "name": "stdout",
     "output_type": "stream",
     "text": [
      "val loss : 0.7118 Acc : 0.3387\n",
      "val loss : 0.3962 Acc : 0.3387\n",
      "epoch 5/5\n",
      "====================\n"
     ]
    },
    {
     "name": "stderr",
     "output_type": "stream",
     "text": [
      "\r",
      " 17%|█▋        | 1/6 [00:00<00:01,  3.09it/s]"
     ]
    },
    {
     "name": "stdout",
     "output_type": "stream",
     "text": [
      "train loss : 0.1878 Acc : 0.0687\n"
     ]
    },
    {
     "name": "stderr",
     "output_type": "stream",
     "text": [
      "\r",
      " 33%|███▎      | 2/6 [00:00<00:01,  2.93it/s]"
     ]
    },
    {
     "name": "stdout",
     "output_type": "stream",
     "text": [
      "train loss : 0.1896 Acc : 0.1245\n"
     ]
    },
    {
     "name": "stderr",
     "output_type": "stream",
     "text": [
      "\r",
      " 50%|█████     | 3/6 [00:01<00:01,  2.72it/s]"
     ]
    },
    {
     "name": "stdout",
     "output_type": "stream",
     "text": [
      "train loss : 0.1914 Acc : 0.1674\n"
     ]
    },
    {
     "name": "stderr",
     "output_type": "stream",
     "text": [
      "\r",
      " 67%|██████▋   | 4/6 [00:01<00:00,  2.58it/s]"
     ]
    },
    {
     "name": "stdout",
     "output_type": "stream",
     "text": [
      "train loss : 0.1887 Acc : 0.2232\n"
     ]
    },
    {
     "name": "stderr",
     "output_type": "stream",
     "text": [
      "\r",
      " 83%|████████▎ | 5/6 [00:02<00:00,  2.44it/s]"
     ]
    },
    {
     "name": "stdout",
     "output_type": "stream",
     "text": [
      "train loss : 0.1885 Acc : 0.2876\n"
     ]
    },
    {
     "name": "stderr",
     "output_type": "stream",
     "text": [
      "100%|██████████| 6/6 [00:02<00:00,  2.29it/s]\n",
      "  0%|          | 0/2 [00:00<?, ?it/s]"
     ]
    },
    {
     "name": "stdout",
     "output_type": "stream",
     "text": [
      "train loss : 0.1559 Acc : 0.3391\n"
     ]
    },
    {
     "name": "stderr",
     "output_type": "stream",
     "text": [
      "100%|██████████| 2/2 [00:00<00:00,  2.80it/s]"
     ]
    },
    {
     "name": "stdout",
     "output_type": "stream",
     "text": [
      "val loss : 0.7087 Acc : 0.3065\n",
      "val loss : 0.4060 Acc : 0.3065\n"
     ]
    },
    {
     "name": "stderr",
     "output_type": "stream",
     "text": [
      "\n"
     ]
    }
   ],
   "source": [
    "criterion = nn.NLLLoss()\n",
    "optimizer = optim.SGD(model.parameters(), lr=0.1, momentum=0.9)\n",
    "num_epochs = 5\n",
    "trainer(model, dataloaders_dict, criterion, optimizer, num_epochs)"
   ]
  }
 ],
 "metadata": {
  "kernelspec": {
   "display_name": "Python 3",
   "language": "python",
   "name": "python3"
  },
  "language_info": {
   "codemirror_mode": {
    "name": "ipython",
    "version": 3
   },
   "file_extension": ".py",
   "mimetype": "text/x-python",
   "name": "python",
   "nbconvert_exporter": "python",
   "pygments_lexer": "ipython3",
   "version": "3.6.8"
  }
 },
 "nbformat": 4,
 "nbformat_minor": 2
}
