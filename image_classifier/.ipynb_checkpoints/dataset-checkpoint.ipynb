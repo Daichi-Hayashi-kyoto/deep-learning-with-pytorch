{
 "cells": [
  {
   "cell_type": "code",
   "execution_count": 1,
   "metadata": {},
   "outputs": [],
   "source": [
    "import os\n",
    "import glob\n",
    "import random\n",
    "import numpy as np\n",
    "from PIL import Image\n",
    "import matplotlib.pyplot as plt\n",
    "\n",
    "import torch\n",
    "import torch.nn as nn\n",
    "import torch.optim as optim\n",
    "import torch.utils.data as data\n",
    "import torchvision\n",
    "from torchvision import transforms"
   ]
  },
  {
   "cell_type": "code",
   "execution_count": 2,
   "metadata": {},
   "outputs": [],
   "source": [
    "# 乱数の固定\n",
    "torch.manual_seed(1)\n",
    "np.random.seed(1)\n",
    "random.seed(1)"
   ]
  },
  {
   "cell_type": "code",
   "execution_count": 3,
   "metadata": {},
   "outputs": [],
   "source": [
    "# 入力画像の前処理\n",
    "class Imagetransform():\n",
    "\n",
    "    def __init__(self, resize, mean, std):\n",
    "        self.data_transform = {\n",
    "            'train' : transforms.Compose([\n",
    "                transforms.RandomResizedCrop(resize, scale = (0.5, 1.0)), # augumentation\n",
    "                transforms.RandomHorizontalFlip(), # 確率1/2で左右反転\n",
    "                transforms.ToTensor(),  # テンソルに変換\n",
    "                transforms.Normalize(mean, std)  \n",
    "            ]), \n",
    "            \"val\" : transforms.Compose([\n",
    "                transforms.Resize(resize),\n",
    "                transforms.CenterCrop(resize), # 画像中央をresizeの正方形で切り取る\n",
    "                transforms.ToTensor(), \n",
    "                transforms.Normalize(mean, std)\n",
    "            ])\n",
    "        }\n",
    "\n",
    "    def __call__(self, img, phase = \"train\"):\n",
    "        '''\n",
    "        phase: \"train\" or \"val\"\n",
    "            前処理のモードを指定する\n",
    "        '''\n",
    "\n",
    "        return self.data_transform[phase](img)\n"
   ]
  },
  {
   "cell_type": "code",
   "execution_count": 10,
   "metadata": {},
   "outputs": [
    {
     "data": {
      "text/plain": [
       "'/Users/hayashidaichi/pytorch_practice/image_classifier'"
      ]
     },
     "execution_count": 10,
     "metadata": {},
     "output_type": "execute_result"
    }
   ],
   "source": [
    "os.getcwd()"
   ]
  },
  {
   "cell_type": "code",
   "execution_count": 11,
   "metadata": {},
   "outputs": [],
   "source": [
    "from dataget import get_image"
   ]
  },
  {
   "cell_type": "code",
   "execution_count": 12,
   "metadata": {
    "scrolled": true
   },
   "outputs": [
    {
     "name": "stderr",
     "output_type": "stream",
     "text": [
      "2019-10-20 14:06:12,853 - INFO - icrawler.crawler - start crawling...\n",
      "2019-10-20 14:06:12,855 - INFO - icrawler.crawler - starting 1 feeder threads...\n",
      "2019-10-20 14:06:12,856 - INFO - feeder - thread feeder-001 exit\n",
      "2019-10-20 14:06:12,856 - INFO - icrawler.crawler - starting 1 parser threads...\n",
      "2019-10-20 14:06:12,858 - INFO - icrawler.crawler - starting 1 downloader threads...\n",
      "2019-10-20 14:06:13,729 - INFO - parser - parsing result page https://www.google.com/search?q=%E9%83%A1%E5%8F%B8%E6%81%AD%E5%AD%90&ijn=0&start=0&tbs=isz%3Al%2Citp%3Aphoto&tbm=isch\n",
      "2019-10-20 14:06:13,882 - INFO - downloader - image #1\thttps://i0.wp.com/it-toranoana.com/wp/wp-content/uploads/2016/04/gunji-kyoko14.jpg\n",
      "2019-10-20 14:06:14,054 - INFO - downloader - image #2\thttp://it-toranoana.com/wp/wp-content/uploads/2016/04/gunji-kyoko13.jpg\n",
      "2019-10-20 14:06:14,093 - INFO - downloader - image #3\thttps://i0.wp.com/it-toranoana.com/wp/wp-content/uploads/2016/04/gunji-kyoko25.jpg?ssl=1\n",
      "2019-10-20 14:06:14,134 - INFO - downloader - image #4\thttps://i0.wp.com/it-toranoana.com/wp/wp-content/uploads/2016/04/gunji-kyoko10-1.jpg?resize=675%2C1200&ssl=1\n",
      "2019-10-20 14:06:14,281 - INFO - downloader - image #5\thttps://pbs.twimg.com/media/DVMdUCmVMAA9uIt.jpg\n",
      "2019-10-20 14:06:14,559 - INFO - downloader - image #6\thttps://w-methods-for-success.com/wp-content/uploads/2019/07/80390627eb91ea2ae3dd0acee3fcd56e.png\n",
      "2019-10-20 14:06:15,152 - ERROR - downloader - Response status code 403, file https://blog-imgs-111.fc2.com/a/n/n/announcer834/gunji20190618-39.jpg\n",
      "2019-10-20 14:06:15,224 - INFO - downloader - image #7\thttps://pbs.twimg.com/media/Cj5uA2JVAAAiskt.jpg\n",
      "2019-10-20 14:06:15,425 - INFO - downloader - image #8\thttps://i.ytimg.com/vi/i-2HCLNRH-k/maxresdefault.jpg\n",
      "2019-10-20 14:06:15,481 - INFO - downloader - image #9\thttps://i0.wp.com/it-toranoana.com/wp/wp-content/uploads/2016/04/gunji-kyoko21.jpg?ssl=1\n",
      "2019-10-20 14:06:15,534 - INFO - downloader - image #10\thttps://pbs.twimg.com/media/CthqNF0UMAArW_O.jpg\n",
      "2019-10-20 14:06:15,620 - INFO - downloader - image #11\thttp://livedoor.blogimg.jp/ponmorisuke/imgs/6/d/6d502904.jpg\n",
      "2019-10-20 14:06:15,663 - INFO - downloader - image #12\thttps://pbs.twimg.com/media/DK4fbnrUIAA5rNF.jpg\n",
      "2019-10-20 14:06:15,749 - INFO - downloader - image #13\thttps://entert.jyuusya-yoshiko.com/wp-content/uploads/2019/08/Dcvt75JU0AUyRUJ.jpg\n",
      "2019-10-20 14:06:15,829 - INFO - downloader - image #14\thttps://i1.wp.com/it-toranoana.com/wp/wp-content/uploads/2016/04/gunji-kyoko10.jpg\n",
      "2019-10-20 14:06:16,025 - INFO - downloader - image #15\thttps://blog-imgs-124.fc2.com/c/a/p/caplogger/gunji20190205_29_l.jpg\n",
      "2019-10-20 14:06:16,164 - ERROR - downloader - Response status code 403, file https://blog-imgs-111.fc2.com/a/n/n/announcer834/gunji20190701-115.jpg\n",
      "2019-10-20 14:06:16,302 - ERROR - downloader - Response status code 403, file https://blog-imgs-111.fc2.com/a/n/n/announcer834/gunji20190813-33.jpg\n",
      "2019-10-20 14:06:16,321 - INFO - downloader - image #16\thttps://i.ytimg.com/vi/P1GbG-Ts0dw/maxresdefault.jpg\n",
      "2019-10-20 14:06:16,426 - INFO - downloader - image #17\thttps://livedoor.blogimg.jp/mayunarakimi-d8tafnbh/imgs/0/7/07ea275a.jpg\n",
      "2019-10-20 14:06:16,833 - INFO - downloader - image #18\thttps://www.instagram.com/p/BzkwfEXnl1j/media?size=l\n",
      "2019-10-20 14:06:16,903 - INFO - downloader - image #19\thttp://livedoor.blogimg.jp/ponmorisuke/imgs/6/e/6ec97977.jpg\n",
      "2019-10-20 14:06:16,965 - INFO - downloader - image #20\thttps://livedoor.blogimg.jp/mayunarakimi-d8tafnbh/imgs/2/8/28a60222.jpg\n",
      "2019-10-20 14:06:17,046 - INFO - downloader - image #21\thttp://iam-publicidad.org/wp-content/uploads/2017/08/30-22.jpg\n",
      "2019-10-20 14:06:17,298 - INFO - downloader - image #22\thttp://two-tone-cat.c.blog.so-net.ne.jp/_images/blog/_bec/two-tone-cat/zip20140714-2f6cc.jpg?c=a0\n",
      "2019-10-20 14:06:17,357 - INFO - downloader - image #23\thttp://livedoor.blogimg.jp/ponmorisuke-barunkunimika/imgs/b/7/b7d091ec.jpg\n",
      "2019-10-20 14:06:17,471 - INFO - downloader - image #24\thttps://pbs.twimg.com/media/DVRlUhvVMAAtyh5.jpg\n",
      "2019-10-20 14:06:17,578 - INFO - downloader - image #25\thttps://i.pinimg.com/originals/20/81/40/2081408f5d4f6f6149a26b7c7a790d85.jpg\n",
      "2019-10-20 14:06:17,669 - INFO - downloader - image #26\thttps://i1.wp.com/it-toranoana.com/wp/wp-content/uploads/2016/04/gunji-kyoko24.jpg?ssl=1\n",
      "2019-10-20 14:06:18,354 - INFO - downloader - image #27\thttps://i.ytimg.com/vi/NZuF2IXJ25w/maxresdefault.jpg\n",
      "2019-10-20 14:06:19,545 - INFO - downloader - image #28\thttps://scontent-frt3-2.cdninstagram.com/vp/6469612a3035e55ed1cb823d2f0940cb/5DC52355/t51.2885-15/e35/61949071_121980015709203_5980360349885872286_n.jpg?_nc_ht=scontent-frt3-2.cdninstagram.com&se=7&ig_cache_key=MjA2OTk1MDk5MTMyODgxNDEzNQ%3D%3D.2\n",
      "2019-10-20 14:06:20,768 - INFO - downloader - image #29\thttps://scontent-frx5-1.cdninstagram.com/v/t51.2885-15/e35/64439134_2100709963391744_5118300798611893345_n.jpg?_nc_ht=scontent-frx5-1.cdninstagram.com&_nc_cat=108&se=7&oh=c36444234305e420badc2bf659a0ec6e&oe=5E180D60&ig_cache_key=MjA4MDg2MDY0NTgzNTYxOTAyOA%3D%3D.2\n",
      "2019-10-20 14:06:22,025 - INFO - downloader - image #30\thttps://scontent-frt3-1.cdninstagram.com/v/t51.2885-15/e35/69509475_374037216863089_2957486309146628479_n.jpg?_nc_ht=scontent-frt3-1.cdninstagram.com&_nc_cat=101&se=7&oh=dd22e94b7bbb5792a9742bdaa60371c1&oe=5DFBA323&ig_cache_key=MjEyNTc2MTA1Mzk4NDcyNjg4Mw%3D%3D.2\n",
      "2019-10-20 14:06:22,068 - INFO - downloader - image #31\thttp://livedoor.blogimg.jp/ponmorisuke/imgs/c/c/cc7c740c.jpg\n",
      "2019-10-20 14:06:22,656 - ERROR - downloader - Response status code 403, file https://blog-imgs-111.fc2.com/a/n/n/announcer834/gunji20190722-5.jpg\n",
      "2019-10-20 14:06:22,772 - INFO - downloader - image #32\thttps://blogimg.goo.ne.jp/user_image/45/46/169853b692cbd2d49327d7123e3a37c1.jpg\n",
      "2019-10-20 14:06:23,121 - INFO - downloader - image #33\thttps://yumeijinhensachi.com/wp-content/uploads/2018/09/04-31.jpg\n",
      "2019-10-20 14:06:23,284 - INFO - downloader - image #34\thttps://pbs.twimg.com/media/DaLpGthUMAE4muJ.jpg\n",
      "2019-10-20 14:06:23,366 - INFO - downloader - image #35\thttps://i.pinimg.com/originals/cc/c5/bc/ccc5bca29482c2b8979209c1d1394938.jpg\n"
     ]
    },
    {
     "ename": "KeyboardInterrupt",
     "evalue": "",
     "output_type": "error",
     "traceback": [
      "\u001b[0;31m---------------------------------------------------------------------------\u001b[0m",
      "\u001b[0;31mKeyboardInterrupt\u001b[0m                         Traceback (most recent call last)",
      "\u001b[0;32m<ipython-input-12-50c76dde1b5d>\u001b[0m in \u001b[0;36m<module>\u001b[0;34m\u001b[0m\n\u001b[1;32m      2\u001b[0m \u001b[0mname_list\u001b[0m \u001b[0;34m=\u001b[0m \u001b[0;34m[\u001b[0m\u001b[0;34m\"郡司恭子\"\u001b[0m\u001b[0;34m,\u001b[0m \u001b[0;34m\"加藤史帆\"\u001b[0m\u001b[0;34m,\u001b[0m \u001b[0;34m\"小坂菜緒\"\u001b[0m\u001b[0;34m]\u001b[0m\u001b[0;34m\u001b[0m\u001b[0;34m\u001b[0m\u001b[0m\n\u001b[1;32m      3\u001b[0m \u001b[0;32mfor\u001b[0m \u001b[0mname\u001b[0m \u001b[0;32min\u001b[0m \u001b[0mname_list\u001b[0m\u001b[0;34m:\u001b[0m\u001b[0;34m\u001b[0m\u001b[0;34m\u001b[0m\u001b[0m\n\u001b[0;32m----> 4\u001b[0;31m     \u001b[0mget_image\u001b[0m\u001b[0;34m(\u001b[0m\u001b[0mname\u001b[0m \u001b[0;34m=\u001b[0m \u001b[0mname\u001b[0m\u001b[0;34m,\u001b[0m \u001b[0mfile_path\u001b[0m \u001b[0;34m=\u001b[0m \u001b[0msave_path\u001b[0m\u001b[0;34m,\u001b[0m \u001b[0mdata_count\u001b[0m \u001b[0;34m=\u001b[0m \u001b[0;36m100\u001b[0m\u001b[0;34m)\u001b[0m\u001b[0;34m\u001b[0m\u001b[0;34m\u001b[0m\u001b[0m\n\u001b[0m\u001b[1;32m      5\u001b[0m \u001b[0;34m\u001b[0m\u001b[0m\n",
      "\u001b[0;32m~/pytorch_practice/image_classifier/dataget.py\u001b[0m in \u001b[0;36mget_image\u001b[0;34m(name, file_path, data_count)\u001b[0m\n\u001b[1;32m     16\u001b[0m \u001b[0;34m\u001b[0m\u001b[0m\n\u001b[1;32m     17\u001b[0m     \u001b[0;31m# クローリングの実行\u001b[0m\u001b[0;34m\u001b[0m\u001b[0;34m\u001b[0m\u001b[0;34m\u001b[0m\u001b[0m\n\u001b[0;32m---> 18\u001b[0;31m     \u001b[0mcrawler\u001b[0m\u001b[0;34m.\u001b[0m\u001b[0mcrawl\u001b[0m\u001b[0;34m(\u001b[0m\u001b[0mkeyword\u001b[0m\u001b[0;34m=\u001b[0m\u001b[0mname\u001b[0m\u001b[0;34m,\u001b[0m \u001b[0mfilters\u001b[0m \u001b[0;34m=\u001b[0m \u001b[0mfilters\u001b[0m\u001b[0;34m,\u001b[0m \u001b[0mmax_num\u001b[0m \u001b[0;34m=\u001b[0m \u001b[0mdata_count\u001b[0m\u001b[0;34m)\u001b[0m\u001b[0;34m\u001b[0m\u001b[0;34m\u001b[0m\u001b[0m\n\u001b[0m\u001b[1;32m     19\u001b[0m \u001b[0;34m\u001b[0m\u001b[0m\n\u001b[1;32m     20\u001b[0m     \u001b[0;31m# valディレクトリの作成\u001b[0m\u001b[0;34m\u001b[0m\u001b[0;34m\u001b[0m\u001b[0;34m\u001b[0m\u001b[0m\n",
      "\u001b[0;32m~/anaconda3/lib/python3.6/site-packages/icrawler/builtin/google.py\u001b[0m in \u001b[0;36mcrawl\u001b[0;34m(self, keyword, filters, offset, max_num, min_size, max_size, language, file_idx_offset, overwrite)\u001b[0m\n\u001b[1;32m    199\u001b[0m             overwrite=overwrite)\n\u001b[1;32m    200\u001b[0m         super(GoogleImageCrawler, self).crawl(\n\u001b[0;32m--> 201\u001b[0;31m             feeder_kwargs=feeder_kwargs, downloader_kwargs=downloader_kwargs)\n\u001b[0m",
      "\u001b[0;32m~/anaconda3/lib/python3.6/site-packages/icrawler/crawler.py\u001b[0m in \u001b[0;36mcrawl\u001b[0;34m(self, feeder_kwargs, parser_kwargs, downloader_kwargs)\u001b[0m\n\u001b[1;32m    193\u001b[0m             \u001b[0;32mif\u001b[0m \u001b[0;32mnot\u001b[0m \u001b[0mself\u001b[0m\u001b[0;34m.\u001b[0m\u001b[0mdownloader\u001b[0m\u001b[0;34m.\u001b[0m\u001b[0mis_alive\u001b[0m\u001b[0;34m(\u001b[0m\u001b[0;34m)\u001b[0m\u001b[0;34m:\u001b[0m\u001b[0;34m\u001b[0m\u001b[0;34m\u001b[0m\u001b[0m\n\u001b[1;32m    194\u001b[0m                 \u001b[0;32mbreak\u001b[0m\u001b[0;34m\u001b[0m\u001b[0;34m\u001b[0m\u001b[0m\n\u001b[0;32m--> 195\u001b[0;31m             \u001b[0mtime\u001b[0m\u001b[0;34m.\u001b[0m\u001b[0msleep\u001b[0m\u001b[0;34m(\u001b[0m\u001b[0;36m1\u001b[0m\u001b[0;34m)\u001b[0m\u001b[0;34m\u001b[0m\u001b[0;34m\u001b[0m\u001b[0m\n\u001b[0m\u001b[1;32m    196\u001b[0m \u001b[0;34m\u001b[0m\u001b[0m\n\u001b[1;32m    197\u001b[0m         \u001b[0;32mif\u001b[0m \u001b[0;32mnot\u001b[0m \u001b[0mself\u001b[0m\u001b[0;34m.\u001b[0m\u001b[0mfeeder\u001b[0m\u001b[0;34m.\u001b[0m\u001b[0min_queue\u001b[0m\u001b[0;34m.\u001b[0m\u001b[0mempty\u001b[0m\u001b[0;34m(\u001b[0m\u001b[0;34m)\u001b[0m\u001b[0;34m:\u001b[0m\u001b[0;34m\u001b[0m\u001b[0;34m\u001b[0m\u001b[0m\n",
      "\u001b[0;31mKeyboardInterrupt\u001b[0m: "
     ]
    }
   ],
   "source": [
    "save_path = \"./image\"\n",
    "name_list = [\"郡司恭子\", \"加藤史帆\", \"小坂菜緒\"]\n",
    "for name in name_list:\n",
    "    get_image(name = name, file_path = save_path, data_count = 100)\n",
    "    "
   ]
  },
  {
   "cell_type": "code",
   "execution_count": null,
   "metadata": {},
   "outputs": [],
   "source": []
  }
 ],
 "metadata": {
  "file_extension": ".py",
  "kernelspec": {
   "display_name": "Python 3",
   "language": "python",
   "name": "python3"
  },
  "language_info": {
   "codemirror_mode": {
    "name": "ipython",
    "version": 3
   },
   "file_extension": ".py",
   "mimetype": "text/x-python",
   "name": "python",
   "nbconvert_exporter": "python",
   "pygments_lexer": "ipython3",
   "version": "3.6.8"
  },
  "mimetype": "text/x-python",
  "name": "python",
  "npconvert_exporter": "python",
  "pygments_lexer": "ipython3",
  "version": 3
 },
 "nbformat": 4,
 "nbformat_minor": 2
}
